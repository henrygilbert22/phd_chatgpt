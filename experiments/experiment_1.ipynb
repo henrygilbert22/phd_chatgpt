{
 "cells": [
  {
   "cell_type": "code",
   "execution_count": null,
   "metadata": {},
   "outputs": [],
   "source": [
    "import os\n",
    "\n",
    "# Change this relative to your own directory structure\n",
    "PARENT_DIR = '/Users/henrygilbert/GitHub/phd_chatgpt'\n",
    "os.chdir(PARENT_DIR)"
   ]
  },
  {
   "cell_type": "code",
   "execution_count": null,
   "metadata": {},
   "outputs": [],
   "source": [
    "from dotenv import load_dotenv\n",
    "import mlflow\n",
    "import numpy as np\n",
    "import pandas as pd\n",
    "from typing import List, Dict\n",
    "import logging\n",
    "import json\n",
    "\n",
    "from chatgpt_util import ChatGPTUtil\n",
    "\n",
    "%load_ext autoreload\n",
    "%autoreload 2\n",
    "\n",
    "load_dotenv('secrets.env')"
   ]
  },
  {
   "cell_type": "code",
   "execution_count": null,
   "metadata": {},
   "outputs": [],
   "source": [
    "def log_dict_artifact(d: Dict, artifact_name: str, artifact_path: str = 'experiments/artifacts'):\n",
    "    with open(f'{artifact_path}/{artifact_name}.json', 'w') as f:\n",
    "        json.dump(d, f)\n",
    "    mlflow.log_artifact(f'{artifact_path}/{artifact_name}.json')"
   ]
  },
  {
   "cell_type": "code",
   "execution_count": null,
   "metadata": {},
   "outputs": [],
   "source": [
    "mlflow.set_experiment(\"Experiment 1\")\n",
    "mlflow.end_run()\n",
    "mlflow.start_run()"
   ]
  },
  {
   "cell_type": "code",
   "execution_count": null,
   "metadata": {},
   "outputs": [],
   "source": [
    "prompts = [\n",
    "    \"How large is the earth?\",  # Purposefully vague question with the metric for large not being specified\n",
    "    \"How many grams are in a kilogram?\",  # Specific question with specific answer\n",
    "    \"How many grams does the average dinner plate that is 12 inches in diameter weigh?\",  # Specific question with more abstract answer\n",
    "    \"What is your definition of love?\",  # Abstract question with abstract answer\n",
    "    \"If there are 5 apples and 3 oranges in a basket, how many fruits are in the basket?\",  # Specific question with specific answer\n",
    "    \"What is the underlying, unknown probability distribution that drives economic markets?\",  # Abstract question with abstract answer\n",
    "]\n",
    "mlflow.log_params({f'prompt_{i}': prompt for i, prompt in enumerate(prompts)})"
   ]
  },
  {
   "cell_type": "code",
   "execution_count": null,
   "metadata": {},
   "outputs": [],
   "source": [
    "prompt_to_response: Dict[str, List[str]] = {}\n",
    "num_samples = 100\n",
    "max_tokens = 100\n",
    "\n",
    "mlflow.log_param('num_samples', num_samples)\n",
    "mlflow.log_param('max_tokens', max_tokens)\n",
    "\n",
    "for prompt_idx, prompt in enumerate(prompts):\n",
    "    print(f'Prompt {prompt_idx}: {prompt}')\n",
    "    responses = ChatGPTUtil.get_text_response(\n",
    "        prompt=prompt,\n",
    "        samples=num_samples,\n",
    "        max_tokens=max_tokens)\n",
    "    prompt_to_response[prompt] = responses\n",
    "\n",
    "log_dict_artifact(prompt_to_response, 'prompt_to_response')"
   ]
  },
  {
   "cell_type": "code",
   "execution_count": null,
   "metadata": {},
   "outputs": [],
   "source": [
    "response_to_embedding = {}\n",
    "for prompt, responses in prompt_to_response.items():\n",
    "    print(f'Prompt: {prompt}')\n",
    "    for i, response in enumerate(responses):\n",
    "        print(f\"        response {i}\") if i % 10 == 0 else None\n",
    "        embedding = ChatGPTUtil.get_text_embedding(response)\n",
    "        response_to_embedding[response] = embedding\n",
    "log_dict_artifact(response_to_embedding, 'response_to_embedding')"
   ]
  }
 ],
 "metadata": {
  "kernelspec": {
   "display_name": "phd_chatgpt",
   "language": "python",
   "name": "python3"
  },
  "language_info": {
   "codemirror_mode": {
    "name": "ipython",
    "version": 3
   },
   "file_extension": ".py",
   "mimetype": "text/x-python",
   "name": "python",
   "nbconvert_exporter": "python",
   "pygments_lexer": "ipython3",
   "version": "3.11.0"
  },
  "orig_nbformat": 4,
  "vscode": {
   "interpreter": {
    "hash": "aa5b589100de5568f7f4eab1a333c1cc69b05cab9345ae7f3673bbe4e964b2db"
   }
  }
 },
 "nbformat": 4,
 "nbformat_minor": 2
}
