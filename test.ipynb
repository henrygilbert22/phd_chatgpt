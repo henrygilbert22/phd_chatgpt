{
 "cells": [
  {
   "cell_type": "code",
   "execution_count": 9,
   "metadata": {},
   "outputs": [
    {
     "name": "stdout",
     "output_type": "stream",
     "text": [
      "The autoreload extension is already loaded. To reload it, use:\n",
      "  %reload_ext autoreload\n"
     ]
    },
    {
     "data": {
      "text/plain": [
       "True"
      ]
     },
     "execution_count": 9,
     "metadata": {},
     "output_type": "execute_result"
    }
   ],
   "source": [
    "import openai\n",
    "import pandas as pd\n",
    "import numpy as np\n",
    "from dotenv import load_dotenv\n",
    "\n",
    "from chatgpt_util import ChatGPTUtil\n",
    "\n",
    "%load_ext autoreload\n",
    "%autoreload 2\n",
    "\n",
    "load_dotenv('secrets.env')"
   ]
  },
  {
   "cell_type": "code",
   "execution_count": 10,
   "metadata": {},
   "outputs": [
    {
     "data": {
      "text/plain": [
       "[' Gul, who runs Web',\n",
       " \" Corey. I'm in\",\n",
       " ' Bill. I just joined',\n",
       " ' Marvin. When I was',\n",
       " ' Nathan,\" he began,',\n",
       " ' Levi.\"\\n\\nTh',\n",
       " ' Pro DisplayLogic,',\n",
       " ' Jake, if I can',\n",
       " ' Lola. I',\n",
       " \" John. I'm Pete\"]"
      ]
     },
     "execution_count": 10,
     "metadata": {},
     "output_type": "execute_result"
    }
   ],
   "source": [
    "ChatGPTUtil.get_text_response(\n",
    "    prompt=\"Hello, my name is\",\n",
    "    max_tokens=5,\n",
    "    samples=10)"
   ]
  }
 ],
 "metadata": {
  "kernelspec": {
   "display_name": "phd_chatgpt",
   "language": "python",
   "name": "python3"
  },
  "language_info": {
   "codemirror_mode": {
    "name": "ipython",
    "version": 3
   },
   "file_extension": ".py",
   "mimetype": "text/x-python",
   "name": "python",
   "nbconvert_exporter": "python",
   "pygments_lexer": "ipython3",
   "version": "3.11.0"
  },
  "orig_nbformat": 4,
  "vscode": {
   "interpreter": {
    "hash": "aa5b589100de5568f7f4eab1a333c1cc69b05cab9345ae7f3673bbe4e964b2db"
   }
  }
 },
 "nbformat": 4,
 "nbformat_minor": 2
}
