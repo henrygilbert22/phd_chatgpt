{
 "cells": [
  {
   "cell_type": "code",
   "execution_count": 18,
   "metadata": {},
   "outputs": [
    {
     "name": "stdout",
     "output_type": "stream",
     "text": [
      "The autoreload extension is already loaded. To reload it, use:\n",
      "  %reload_ext autoreload\n"
     ]
    },
    {
     "data": {
      "text/plain": [
       "True"
      ]
     },
     "execution_count": 18,
     "metadata": {},
     "output_type": "execute_result"
    }
   ],
   "source": [
    "from dotenv import load_dotenv\n",
    "\n",
    "from chatgpt_util import ChatGPTUtil\n",
    "\n",
    "%load_ext autoreload\n",
    "%autoreload 2\n",
    "\n",
    "load_dotenv('secrets.env')"
   ]
  },
  {
   "cell_type": "code",
   "execution_count": 19,
   "metadata": {},
   "outputs": [],
   "source": [
    "text_responses = ChatGPTUtil.get_text_response(\n",
    "    prompt=\"Hello, my name is\",\n",
    "    max_tokens=5,\n",
    "    samples=10)"
   ]
  },
  {
   "cell_type": "code",
   "execution_count": 20,
   "metadata": {},
   "outputs": [],
   "source": [
    "text_embeddings = [\n",
    "    ChatGPTUtil.get_text_embedding(input=response)\n",
    "    for response in text_responses]"
   ]
  },
  {
   "cell_type": "code",
   "execution_count": 21,
   "metadata": {},
   "outputs": [
    {
     "name": "stdout",
     "output_type": "stream",
     "text": [
      "(1536,)\n",
      "[-0.00215575 -0.00098957 -0.01304584 ... -0.01132761 -0.01349131\n",
      " -0.02065697]\n"
     ]
    }
   ],
   "source": [
    "print(text_embeddings[0].shape)\n",
    "print(text_embeddings[0])"
   ]
  }
 ],
 "metadata": {
  "kernelspec": {
   "display_name": "phd_chatgpt",
   "language": "python",
   "name": "python3"
  },
  "language_info": {
   "codemirror_mode": {
    "name": "ipython",
    "version": 3
   },
   "file_extension": ".py",
   "mimetype": "text/x-python",
   "name": "python",
   "nbconvert_exporter": "python",
   "pygments_lexer": "ipython3",
   "version": "3.11.0"
  },
  "orig_nbformat": 4,
  "vscode": {
   "interpreter": {
    "hash": "aa5b589100de5568f7f4eab1a333c1cc69b05cab9345ae7f3673bbe4e964b2db"
   }
  }
 },
 "nbformat": 4,
 "nbformat_minor": 2
}
